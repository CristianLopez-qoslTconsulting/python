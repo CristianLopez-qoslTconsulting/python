{
 "cells": [
  {
   "cell_type": "markdown",
   "metadata": {},
   "source": [
    "# Tema 02: Operadores y expresiones (Enunciados)\n",
    "*Nota: Estos ejercicios son optativos para hacer al final de la unidad y están pensados para apoyar tu aprendizaje*."
   ]
  },
  {
   "cell_type": "markdown",
   "metadata": {},
   "source": [
    "**1) Realiza un programa que lea 2 números por teclado y determine los siguientes aspectos (es suficiene con mostrar True o False):**\n",
    "* Si los dos números son iguales\n",
    "* Si los dos números son diferentes\n",
    "* Si el primero es mayor que el segundo\n",
    "* Si el segundo es mayor o igual que el primero"
   ]
  },
  {
   "cell_type": "code",
   "execution_count": 1,
   "metadata": {},
   "outputs": [
    {
     "name": "stdout",
     "output_type": "stream",
     "text": [
      "Introduce un número entero: 2\n",
      "Introduce otro número entero: 2\n",
      "Son los dos números iguales: True\n",
      "Son los dos números diferentes: False\n",
      "El primero es mayor que el segundo: False\n",
      "El segundo es mayor o igual que el primero: True\n"
     ]
    }
   ],
   "source": [
    "# Completa el ejercicio aquí\n",
    "num1 = int(input('Introduce un numero: '))\n",
    "num2 = int(input('Introduce otro numero: '))\n",
    "\n",
    "comprueba = print( 'Son los dos numeros iguales:',num1 == num2) \n",
    "comprueba = print( 'Son los dos numeros diferentes:',num1 != num2) \n",
    "comprueba = print( 'El primero es mayor que el segundo:',num1 > num2) \n",
    "comprueba = print( 'El segundo es mayor o igual que el primero:',num2 >= num1) "
   ]
  },
  {
   "cell_type": "markdown",
   "metadata": {},
   "source": [
    "**2) Utilizando operadores lógicos, determina si una cadena de texto introducida por el usuario tiene una longitud mayor o igual que 3 y a su vez es menor que 10 (es suficiene con mostrar True o False):**"
   ]
  },
  {
   "cell_type": "code",
   "execution_count": null,
   "metadata": {},
   "outputs": [],
   "source": [
    "# Completa el ejercicio aquí\n",
    "cadena = input('Dime una palabra o frase: ')\n",
    "\n",
    "if len(cadena) >= 3 and len(cadena) < 10:\n",
    "    print(True)\n",
    "else:\n",
    "    print(False)"
   ]
  },
  {
   "cell_type": "markdown",
   "metadata": {},
   "source": [
    "**3) Realiza un programa que cumpla el siguiente algoritmo utilizando siempre que sea posible operadores en asignación:**\n",
    "* Guarda en una variable numero_magico el valor 12345679 (sin el 8)\n",
    "* Lee por pantalla otro numero_usuario, especifica que sea entre 1 y 9 (asegúrate que es un número)\n",
    "* Multiplica el numero_usuario por 9 en sí mismo\n",
    "* Multiplica el numero_magico por el numero_usuario en sí mismo\n",
    "* Finalmente muestra el valor final del numero_magico por pantalla\n"
   ]
  },
  {
   "cell_type": "code",
   "execution_count": 1,
   "metadata": {},
   "outputs": [
    {
     "name": "stdout",
     "output_type": "stream",
     "text": [
      "555555555\n"
     ]
    }
   ],
   "source": [
    "# Completa el ejercicio aquí\n",
    "numero_magico = 12345679\n",
    "\n",
    "while True:\n",
    "    numero_usuario = input('Dime un numero entre 1 y 9: ')\n",
    "\n",
    "    if len(numero_usuario) !=1 or not numero_usuario.isdigit():\n",
    "        print(\"Error introduce un numero entre el 1 y el 9\")\n",
    "\n",
    "    numero_usuario = int(numero_usuario)\n",
    "    \n",
    "    numero_usuario *= 9\n",
    "    numero_magico *= numero_usuario\n",
    "\n",
    "    print (numero_magico)\n",
    "    break\n",
    "\n"
   ]
  },
  {
   "cell_type": "code",
   "execution_count": null,
   "metadata": {},
   "outputs": [],
   "source": []
  }
 ],
 "metadata": {
  "anaconda-cloud": {},
  "kernelspec": {
   "display_name": "base",
   "language": "python",
   "name": "python3"
  },
  "language_info": {
   "codemirror_mode": {
    "name": "ipython",
    "version": 3
   },
   "file_extension": ".py",
   "mimetype": "text/x-python",
   "name": "python",
   "nbconvert_exporter": "python",
   "pygments_lexer": "ipython3",
   "version": "3.12.3"
  }
 },
 "nbformat": 4,
 "nbformat_minor": 2
}
