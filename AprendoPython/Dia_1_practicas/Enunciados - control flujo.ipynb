{
 "cells": [
  {
   "cell_type": "markdown",
   "metadata": {},
   "source": [
    "# Tema 03: Control de flujo (Enunciados)\n",
    "*Nota: Estos ejercicios son optativos para hacer al final de la unidad y están pensados para apoyar tu aprendizaje*."
   ]
  },
  {
   "cell_type": "markdown",
   "metadata": {},
   "source": [
    "**1) Realiza un programa que lea dos números por teclado y permita elegir entre 3 opciones en un menú:** \n",
    "* Mostrar una suma de los dos números\n",
    "* Mostrar una resta de los dos números (el primero menos el segundo)\n",
    "* Mostrar una multiplicación de los dos números\n",
    "* En caso de no introducir una opción válida, el programa informará de que no es correcta."
   ]
  },
  {
   "cell_type": "code",
   "execution_count": null,
   "metadata": {},
   "outputs": [],
   "source": [
    "\n",
    "import time\n",
    "\n",
    "\n",
    "menu = True\n",
    "suma = 0\n",
    "while menu:\n",
    "    print('''\n",
    "        1.- Suma\n",
    "        2.- Resta\n",
    "        3.- Multiplicacion\n",
    "        4.- Salir\n",
    "          ''')\n",
    "    opcion = input('Selecciona una opcion: ')\n",
    "\n",
    "    if len(opcion) != 1 or not opcion.isdigit():\n",
    "        print('⚠️ Introduce una opcion correcta ⚠️')\n",
    "    else:\n",
    "        opcion = int(opcion)\n",
    "    \n",
    "    if opcion == 1:\n",
    "        print(\"===============  SUMA  ===============\")\n",
    "        num_suma_1 = input('Introduce numero 1: ')\n",
    "        num_suma_2 = input('Introduce numero 2: ')\n",
    "\n",
    "        if not num_suma_1.isdigit() or not num_suma_2.isdigit():\n",
    "        \n",
    "          print('⚠️ introduce un valor correcto ⚠️')\n",
    "        else:\n",
    "            suma = int(num_suma_1)+ int(num_suma_2)\n",
    "            print(f'La suma de {num_suma_1} + {num_suma_1} es: {suma}')\n",
    "            time.sleep(2)\n",
    "\n",
    "    if opcion == 2:\n",
    "        print('===============  RESTA  ===============')\n",
    "        num_resta_1 = input('Introduce numero 1: ')\n",
    "        num_resta_2 = input('Introduce numero 2: ')\n",
    "\n",
    "        if not num_resta_1.isdigit() or not num_resta_2.isdigit():\n",
    "        \n",
    "          print('⚠️ introduce un valor correcto ⚠️')\n",
    "        else:\n",
    "            resta = int(num_resta_1) - int(num_resta_2)\n",
    "            print(f'La resta de {num_resta_1} - {num_resta_1} es: {resta}')\n",
    "            time.sleep(2)\n",
    "    if opcion == 3:\n",
    "        print('===============  RESTA  ===============')\n",
    "        num_multi_1 = input('Introduce numero 1: ')\n",
    "        num_multi_2 = input('Introduce numero 2: ')\n",
    "\n",
    "        if not num_multi_1.isdigit() or not num_multi_2.isdigit():\n",
    "          print('⚠️ introduce un valor correcto ⚠️')\n",
    "        else:\n",
    "            multi = int(num_multi_1) * int(num_multi_2)\n",
    "            print(f'La Multiplicacion de {num_multi_1} * {num_multi_1} es: {multi}')\n",
    "            time.sleep(2)\n",
    "    if opcion == 4:\n",
    "        print('Apagando...')\n",
    "        time.sleep(5)\n",
    "        print('🐍 apagada 🐍')\n",
    "            \n",
    "        menu = False"
   ]
  },
  {
   "cell_type": "markdown",
   "metadata": {},
   "source": [
    "**2) Realiza un programa que lea un número impar por teclado. Si el usuario no introduce un número impar, debe repetise el proceso hasta que lo introduzca correctamente.**"
   ]
  },
  {
   "cell_type": "code",
   "execution_count": 11,
   "metadata": {},
   "outputs": [],
   "source": [
    "# Completa el ejercicio aquí\n",
    "while True: \n",
    "    num = (input('introduce un numero:'))\n",
    "    if not num.isdigit():\n",
    "        print('introduce un digito')\n",
    "    else:\n",
    "        num_Entero = int(num)\n",
    "        if num_Entero % 2 != 0:\n",
    "            print(f'El numero {num_Entero} es impar')\n",
    "            break\n",
    "        else:\n",
    "            print(f'El numero {num_Entero} es par')\n"
   ]
  },
  {
   "cell_type": "markdown",
   "metadata": {},
   "source": [
    "**3) Realiza un programa que sume todos los números enteros pares desde el 0 hasta el 100:**\n",
    "\n",
    "*Sugerencia: Puedes utilizar la funciones sum() y range() para hacerlo más fácil. El tercer parámetro en la función range(inicio, fin, salto) indica un salto de números, pruébalo.*"
   ]
  },
  {
   "cell_type": "code",
   "execution_count": 12,
   "metadata": {},
   "outputs": [],
   "source": [
    "# Completa el ejercicio aquí\n",
    "#forma 1\n",
    "x = sum(range(0, 101, 2))\n",
    "print(x)\n",
    "\n",
    "#forma2\n",
    "\n",
    "x = 0\n",
    "for i in range(0,101,2):\n",
    "    x += i\n",
    "    \n",
    "print(x)  "
   ]
  },
  {
   "cell_type": "markdown",
   "metadata": {},
   "source": [
    "**4) Realiza un programa que pida al usuario cuantos números quiere introducir. Luego lee todos los números y realiza una media aritmética:**\n"
   ]
  },
  {
   "cell_type": "code",
   "execution_count": 13,
   "metadata": {},
   "outputs": [],
   "source": [
    "# Completa el ejercicio aquí\n",
    "cantidad = int(input(\"¿Cuántos números quieres introducir? \"))\n",
    "\n",
    "suma = 0\n",
    "\n",
    "for i in range(cantidad):\n",
    "    num = float(input(f\"Introduce el número {i+1}: \"))\n",
    "    suma += num\n",
    "\n",
    "if cantidad > 0:\n",
    "    media = suma / cantidad\n",
    "    print(f\"La media aritmética es: {media}\")\n",
    "else:\n",
    "    print(\"No se puede calcular la media de 0 números.\")\n",
    "\n"
   ]
  },
  {
   "cell_type": "markdown",
   "metadata": {},
   "source": [
    "**5) Realiza un programa que pida al usuario un número entero del 0 al 9, y que mientras el número no sea correcto se repita el proceso. Luego debe comprobar si el número se encuentra en la lista de números y notificarlo:**\n",
    "\n",
    "*Consejo: La sintaxis \"valor in lista\" permite comprobar fácilmente si un valor se encuentra en una lista (devuelve True o False)*"
   ]
  },
  {
   "cell_type": "code",
   "execution_count": 14,
   "metadata": {},
   "outputs": [],
   "source": [
    "# Completa el ejercicio aquí\n",
    "lista = [0,1,2,3,4,5,6,7,8,9]\n",
    "\n",
    "en_lista = False\n",
    "\n",
    "while en_lista == False:\n",
    "    num = int(input('Introduce un numero que este en la lista: '))\n",
    "\n",
    "    if num in lista:\n",
    "        print(f'El numero [{num}] esta en la lista')\n",
    "        en_lista = True\n",
    "    else:\n",
    "        (print(f'El numero [{num}] no esta en la lista'))\n",
    "    "
   ]
  },
  {
   "cell_type": "markdown",
   "metadata": {},
   "source": [
    "**6) Utilizando la función range() y la conversión a listas genera las siguientes listas dinámicamente:**\n",
    "* Todos los números del 0 al 10 [0, 1, 2, ..., 10]\n",
    "* Todos los números del -10 al 0 [-10, -9, -8, ..., 0]\n",
    "* Todos los números pares del 0 al 20 [0, 2, 4, ..., 20]\n",
    "* Todos los números impares entre -20 y 0 [-19, -17, -15, ..., -1]\n",
    "* Todos los números múltiples de 5 del 0 al 50 [0, 5, 10, ..., 50]\n",
    "\n",
    "*Pista: Utiliza el tercer parámetro de la función range(inicio, fin, salto).*"
   ]
  },
  {
   "cell_type": "code",
   "execution_count": 15,
   "metadata": {},
   "outputs": [],
   "source": [
    "# Completa el ejercicio\n",
    "print(list(range(0,11)))\n",
    "print(list(range(-10,1,1)))\n",
    "print(list(range(0,21,2)))\n",
    "print(list(range(-19,1,2)))\n",
    "print(list(range(0,51,5)))"
   ]
  },
  {
   "cell_type": "markdown",
   "metadata": {},
   "source": [
    "**7) Dadas dos listas, debes generar una tercera con todos los elementos que se repitan en ellas, pero no debe repetise ningún elemento en la nueva lista:**"
   ]
  },
  {
   "cell_type": "code",
   "execution_count": 17,
   "metadata": {},
   "outputs": [],
   "source": [
    "# Completa el ejercicio aquí\n",
    "lista2 = [4, 4, 5, 5, 5, 6, 7, 8, 8, 9]\n",
    "\n",
    "repetidos = []\n",
    "\n",
    "for num in lista1:\n",
    "    if lista1.count(num) > 1 and num not in repetidos:\n",
    "        repetidos.append(num)\n",
    "\n",
    "for num in lista2:\n",
    "    if lista2.count(num) > 1 and num not in repetidos:\n",
    "        repetidos.append(num)\n",
    "\n",
    "print(f\"Numeros que se repiten: {repetidos}\" )"
   ]
  },
  {
   "cell_type": "code",
   "execution_count": null,
   "metadata": {},
   "outputs": [],
   "source": []
  }
 ],
 "metadata": {
  "anaconda-cloud": {},
  "kernelspec": {
   "display_name": "Python 3",
   "language": "python",
   "name": "python3"
  },
  "language_info": {
   "codemirror_mode": {
    "name": "ipython",
    "version": 3
   },
   "file_extension": ".py",
   "mimetype": "text/x-python",
   "name": "python",
   "nbconvert_exporter": "python",
   "pygments_lexer": "ipython3",
   "version": "3.13.1"
  }
 },
 "nbformat": 4,
 "nbformat_minor": 4
}
